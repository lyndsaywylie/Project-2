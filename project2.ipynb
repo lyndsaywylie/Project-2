{
 "cells": [
  {
   "cell_type": "code",
   "execution_count": 35,
   "metadata": {},
   "outputs": [],
   "source": [
    "from sqlalchemy import create_engine\n",
    "import pandas as pd"
   ]
  },
  {
   "cell_type": "code",
   "execution_count": 36,
   "metadata": {},
   "outputs": [],
   "source": [
    "# create path to data source\n",
    "csv = 'rawdata/data.csv'"
   ]
  },
  {
   "cell_type": "code",
   "execution_count": 67,
   "metadata": {},
   "outputs": [
    {
     "data": {
      "text/plain": [
       "id                      int64\n",
       "members_workingout      int64\n",
       "date                   object\n",
       "temp                  float64\n",
       "dtype: object"
      ]
     },
     "execution_count": 67,
     "metadata": {},
     "output_type": "execute_result"
    }
   ],
   "source": [
    "# use pandas read_csv() function to read in data\n",
    "p = pd.read_csv(csv)\n",
    "# extract only the columns we want to use\n",
    "gym = p[['timestamp','number_people','date','temperature']]\n",
    "# rename columns and create an id column (didn't work with timestamp so i created an id column)\n",
    "crowd = gym.rename(columns={'timestamp':'id',\n",
    "                           'number_people':'members_workingout',\n",
    "                           'date':'date',\n",
    "                           'temperature':'temp'})\n",
    "# code to create id column off of index\n",
    "crowd[\"id\"] = crowd.index + 1\n",
    "# dropping duplicates in the dataset\n",
    "crowd.drop_duplicates(inplace=True)\n",
    "# see what type of data each column is for pgAdmin\n",
    "crowd.dtypes"
   ]
  },
  {
   "cell_type": "code",
   "execution_count": 68,
   "metadata": {},
   "outputs": [],
   "source": [
    "# create connection to pgAdmin\n",
    "protocol = 'postgresql'\n",
    "username = 'postgres'\n",
    "password = 'postgres'\n",
    "host = 'localhost'\n",
    "port = 5433\n",
    "database_name = 'project2'\n",
    "rds_connection_string = f'{protocol}://{username}:{password}@{host}:{port}/{database_name}'\n",
    "engine = create_engine(rds_connection_string)"
   ]
  },
  {
   "cell_type": "code",
   "execution_count": 69,
   "metadata": {},
   "outputs": [
    {
     "name": "stderr",
     "output_type": "stream",
     "text": [
      "/Users/benraseman/opt/anaconda3/envs/PythonData/lib/python3.7/site-packages/ipykernel_launcher.py:1: SADeprecationWarning: The Engine.table_names() method is deprecated and will be removed in a future release.  Please refer to Inspector.get_table_names(). (deprecated since: 1.4)\n",
      "  \"\"\"Entry point for launching an IPython kernel.\n"
     ]
    },
    {
     "data": {
      "text/plain": [
       "['crowd']"
      ]
     },
     "execution_count": 69,
     "metadata": {},
     "output_type": "execute_result"
    }
   ],
   "source": [
    "# check to see your table in pgAdmin is linked to here\n",
    "engine.table_names()"
   ]
  },
  {
   "cell_type": "code",
   "execution_count": 70,
   "metadata": {},
   "outputs": [],
   "source": [
    "# load data into pgAdmin\n",
    "crowd.to_sql(name='crowd',con=engine,if_exists='append',index=False)"
   ]
  },
  {
   "cell_type": "code",
   "execution_count": null,
   "metadata": {},
   "outputs": [],
   "source": []
  }
 ],
 "metadata": {
  "kernelspec": {
   "display_name": "PythonData",
   "language": "python",
   "name": "pythondata"
  },
  "language_info": {
   "codemirror_mode": {
    "name": "ipython",
    "version": 3
   },
   "file_extension": ".py",
   "mimetype": "text/x-python",
   "name": "python",
   "nbconvert_exporter": "python",
   "pygments_lexer": "ipython3",
   "version": "3.7.7"
  },
  "vscode": {
   "interpreter": {
    "hash": "31f2aee4e71d21fbe5cf8b01ff0e069b9275f58929596ceb00d14d90e3e16cd6"
   }
  }
 },
 "nbformat": 4,
 "nbformat_minor": 2
}
