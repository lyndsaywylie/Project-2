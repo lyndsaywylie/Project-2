{
 "cells": [
  {
   "cell_type": "code",
   "execution_count": 24,
   "metadata": {},
   "outputs": [],
   "source": [
    "from sqlalchemy import create_engine\n",
    "import pandas as pd"
   ]
  },
  {
   "cell_type": "code",
   "execution_count": 57,
   "metadata": {},
   "outputs": [],
   "source": [
    "# create path to data source\n",
    "crowdcsv = 'rawdata/data.csv'\n",
    "membercsv = 'rawdata/multiTimeline.csv'"
   ]
  },
  {
   "cell_type": "code",
   "execution_count": 59,
   "metadata": {},
   "outputs": [
    {
     "data": {
      "text/plain": [
       "date                object\n",
       "membership_count     int64\n",
       "dtype: object"
      ]
     },
     "execution_count": 59,
     "metadata": {},
     "output_type": "execute_result"
    }
   ],
   "source": [
    "# use pandas read_csv() function to read in data\n",
    "c = pd.read_csv(crowdcsv)\n",
    "m = pd.read_csv(membercsv, skiprows=1)\n",
    "# extract only the columns we want to use\n",
    "gym = c[['timestamp','number_people','date','temperature']].copy()\n",
    "\n",
    "# rename columns and create an id column (didn't work with timestamp so i created an id column)\n",
    "crowd = gym.rename(columns={'timestamp':'id',\n",
    "                           'number_people':'members_workingout',\n",
    "                           'date':'date',\n",
    "                           'temperature':'temp'})\n",
    "membership = m.rename(columns={'Week':'date',\n",
    "                               'gym membership: (United States)':'membership_count'})\n",
    "# converting date column to date without time\n",
    "crowd['date'] = pd.to_datetime(crowd['date'], utc=True).dt.date\n",
    "# dropping duplicates in the dataset\n",
    "crowd.drop_duplicates(subset=['date'],inplace=True)\n",
    "membership.drop_duplicates(inplace=True)\n",
    "# reset index after dropping dupes\n",
    "crowddf = crowd.reset_index()\n",
    "# drop incorrect index column\n",
    "crowddf.drop('index',axis=1,inplace=True)\n",
    "# see what type of data each column is for pgAdmin\n",
    "crowddf.dtypes\n",
    "membership.dtypes"
   ]
  },
  {
   "cell_type": "code",
   "execution_count": 60,
   "metadata": {},
   "outputs": [],
   "source": [
    "# create connection to pgAdmin\n",
    "protocol = 'postgresql'\n",
    "username = 'postgres'\n",
    "password = 'postgres'\n",
    "host = 'localhost'\n",
    "port = 5433\n",
    "database_name = 'project2'\n",
    "rds_connection_string = f'{protocol}://{username}:{password}@{host}:{port}/{database_name}'\n",
    "engine = create_engine(rds_connection_string)"
   ]
  },
  {
   "cell_type": "code",
   "execution_count": 61,
   "metadata": {},
   "outputs": [
    {
     "name": "stderr",
     "output_type": "stream",
     "text": [
      "/Users/benraseman/opt/anaconda3/envs/PythonData/lib/python3.7/site-packages/ipykernel_launcher.py:2: SADeprecationWarning: The Engine.table_names() method is deprecated and will be removed in a future release.  Please refer to Inspector.get_table_names(). (deprecated since: 1.4)\n",
      "  \n"
     ]
    },
    {
     "data": {
      "text/plain": [
       "['crowd', 'members']"
      ]
     },
     "execution_count": 61,
     "metadata": {},
     "output_type": "execute_result"
    }
   ],
   "source": [
    "# check to see your table in pgAdmin is linked\n",
    "engine.table_names()"
   ]
  },
  {
   "cell_type": "code",
   "execution_count": 62,
   "metadata": {},
   "outputs": [],
   "source": [
    "# load data into pgAdmin\n",
    "crowddf.to_sql(name='crowd',con=engine,if_exists='append',index=False)\n",
    "membership.to_sql(name='members',con=engine,if_exists='append',index=False)"
   ]
  },
  {
   "cell_type": "code",
   "execution_count": null,
   "metadata": {},
   "outputs": [],
   "source": []
  }
 ],
 "metadata": {
  "kernelspec": {
   "display_name": "PythonData",
   "language": "python",
   "name": "pythondata"
  },
  "language_info": {
   "codemirror_mode": {
    "name": "ipython",
    "version": 3
   },
   "file_extension": ".py",
   "mimetype": "text/x-python",
   "name": "python",
   "nbconvert_exporter": "python",
   "pygments_lexer": "ipython3",
   "version": "3.7.7"
  },
  "vscode": {
   "interpreter": {
    "hash": "31f2aee4e71d21fbe5cf8b01ff0e069b9275f58929596ceb00d14d90e3e16cd6"
   }
  }
 },
 "nbformat": 4,
 "nbformat_minor": 2
}
