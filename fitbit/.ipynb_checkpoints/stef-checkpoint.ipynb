{
 "cells": [
  {
   "cell_type": "code",
   "execution_count": 16,
   "id": "071b07ba",
   "metadata": {},
   "outputs": [],
   "source": [
    "# Dependencies\n",
    " \n",
    "import pandas as pd\n",
    "import numpy as np\n",
    "from sqlalchemy import create_engine\n",
    "\n"
   ]
  },
  {
   "cell_type": "code",
   "execution_count": 17,
   "id": "ee8c8c03",
   "metadata": {
    "scrolled": true
   },
   "outputs": [
    {
     "data": {
      "text/html": [
       "<div>\n",
       "<style scoped>\n",
       "    .dataframe tbody tr th:only-of-type {\n",
       "        vertical-align: middle;\n",
       "    }\n",
       "\n",
       "    .dataframe tbody tr th {\n",
       "        vertical-align: top;\n",
       "    }\n",
       "\n",
       "    .dataframe thead th {\n",
       "        text-align: right;\n",
       "    }\n",
       "</style>\n",
       "<table border=\"1\" class=\"dataframe\">\n",
       "  <thead>\n",
       "    <tr style=\"text-align: right;\">\n",
       "      <th></th>\n",
       "      <th>date</th>\n",
       "      <th>step_count</th>\n",
       "      <th>mood</th>\n",
       "      <th>calories_burned</th>\n",
       "      <th>hours_of_sleep</th>\n",
       "      <th>bool_of_active</th>\n",
       "      <th>weight_kg</th>\n",
       "    </tr>\n",
       "  </thead>\n",
       "  <tbody>\n",
       "    <tr>\n",
       "      <th>0</th>\n",
       "      <td>2017-10-06</td>\n",
       "      <td>5464</td>\n",
       "      <td>200</td>\n",
       "      <td>181</td>\n",
       "      <td>5</td>\n",
       "      <td>0</td>\n",
       "      <td>66</td>\n",
       "    </tr>\n",
       "    <tr>\n",
       "      <th>1</th>\n",
       "      <td>2017-10-07</td>\n",
       "      <td>6041</td>\n",
       "      <td>100</td>\n",
       "      <td>197</td>\n",
       "      <td>8</td>\n",
       "      <td>0</td>\n",
       "      <td>66</td>\n",
       "    </tr>\n",
       "    <tr>\n",
       "      <th>2</th>\n",
       "      <td>2017-10-08</td>\n",
       "      <td>25</td>\n",
       "      <td>100</td>\n",
       "      <td>0</td>\n",
       "      <td>5</td>\n",
       "      <td>0</td>\n",
       "      <td>66</td>\n",
       "    </tr>\n",
       "    <tr>\n",
       "      <th>3</th>\n",
       "      <td>2017-10-09</td>\n",
       "      <td>5461</td>\n",
       "      <td>100</td>\n",
       "      <td>174</td>\n",
       "      <td>4</td>\n",
       "      <td>0</td>\n",
       "      <td>66</td>\n",
       "    </tr>\n",
       "    <tr>\n",
       "      <th>4</th>\n",
       "      <td>2017-10-10</td>\n",
       "      <td>6915</td>\n",
       "      <td>200</td>\n",
       "      <td>223</td>\n",
       "      <td>5</td>\n",
       "      <td>500</td>\n",
       "      <td>66</td>\n",
       "    </tr>\n",
       "  </tbody>\n",
       "</table>\n",
       "</div>"
      ],
      "text/plain": [
       "         date  step_count  mood  calories_burned  hours_of_sleep  \\\n",
       "0  2017-10-06        5464   200              181               5   \n",
       "1  2017-10-07        6041   100              197               8   \n",
       "2  2017-10-08          25   100                0               5   \n",
       "3  2017-10-09        5461   100              174               4   \n",
       "4  2017-10-10        6915   200              223               5   \n",
       "\n",
       "   bool_of_active  weight_kg  \n",
       "0               0         66  \n",
       "1               0         66  \n",
       "2               0         66  \n",
       "3               0         66  \n",
       "4             500         66  "
      ]
     },
     "execution_count": 17,
     "metadata": {},
     "output_type": "execute_result"
    }
   ],
   "source": [
    "# read in csv file\n",
    "\n",
    "csv_file = \"./Resources/25.csv\"\n",
    "fitness_data_df = pd.read_csv(csv_file)\n",
    "fitness_data_df.head()"
   ]
  },
  {
   "cell_type": "code",
   "execution_count": 18,
   "id": "20cca51e",
   "metadata": {},
   "outputs": [
    {
     "data": {
      "text/plain": [
       "date               object\n",
       "step_count          int64\n",
       "mood                int64\n",
       "calories_burned     int64\n",
       "hours_of_sleep      int64\n",
       "bool_of_active      int64\n",
       "weight_kg           int64\n",
       "dtype: object"
      ]
     },
     "metadata": {},
     "output_type": "display_data"
    }
   ],
   "source": [
    "display(fitness_data_df.dtypes)"
   ]
  },
  {
   "cell_type": "code",
   "execution_count": 19,
   "id": "25adb201",
   "metadata": {},
   "outputs": [
    {
     "data": {
      "text/plain": [
       "(96, 7)"
      ]
     },
     "execution_count": 19,
     "metadata": {},
     "output_type": "execute_result"
    }
   ],
   "source": [
    "fitness_data_df.shape"
   ]
  },
  {
   "cell_type": "code",
   "execution_count": 20,
   "id": "f7979984",
   "metadata": {},
   "outputs": [
    {
     "data": {
      "text/plain": [
       "date               0\n",
       "step_count         0\n",
       "mood               0\n",
       "calories_burned    0\n",
       "hours_of_sleep     0\n",
       "bool_of_active     0\n",
       "weight_kg          0\n",
       "dtype: int64"
      ]
     },
     "execution_count": 20,
     "metadata": {},
     "output_type": "execute_result"
    }
   ],
   "source": [
    "#  Any nulls ?\n",
    "\n",
    "fitness_data_df.isnull().sum()"
   ]
  },
  {
   "cell_type": "code",
   "execution_count": 21,
   "id": "ad0ad688",
   "metadata": {},
   "outputs": [],
   "source": [
    "#fitness_data_df[\"date\"] = pd.to_datetime(fitness_data_df[\"date\"])\n",
    "#fitness_data_df.info()"
   ]
  },
  {
   "cell_type": "code",
   "execution_count": 22,
   "id": "d13aa6dd",
   "metadata": {},
   "outputs": [],
   "source": [
    "#fitness_data_df[\"datey\"] = fitness_data_df[\"date\"].dt.year \n",
    "#fitness_data_df[\"datem\"] = fitness_data_df[\"date\"].dt.month\n",
    "#fitness_data_df[\"date\"] = fitness_data_df[\"datey\"].map(str) + \"-\" + fitness_data_df[\"datem\"].map(str)\n",
    "#fitness_data_df.head()"
   ]
  },
  {
   "cell_type": "code",
   "execution_count": 23,
   "id": "bd2b8564",
   "metadata": {},
   "outputs": [
    {
     "data": {
      "text/html": [
       "<div>\n",
       "<style scoped>\n",
       "    .dataframe tbody tr th:only-of-type {\n",
       "        vertical-align: middle;\n",
       "    }\n",
       "\n",
       "    .dataframe tbody tr th {\n",
       "        vertical-align: top;\n",
       "    }\n",
       "\n",
       "    .dataframe thead th {\n",
       "        text-align: right;\n",
       "    }\n",
       "</style>\n",
       "<table border=\"1\" class=\"dataframe\">\n",
       "  <thead>\n",
       "    <tr style=\"text-align: right;\">\n",
       "      <th></th>\n",
       "      <th>id</th>\n",
       "      <th>stepcount</th>\n",
       "      <th>mood</th>\n",
       "      <th>calories</th>\n",
       "      <th>hours_of_sleep</th>\n",
       "      <th>active</th>\n",
       "      <th>weight_kg</th>\n",
       "    </tr>\n",
       "  </thead>\n",
       "  <tbody>\n",
       "    <tr>\n",
       "      <th>0</th>\n",
       "      <td>2017-10-06</td>\n",
       "      <td>5464</td>\n",
       "      <td>200</td>\n",
       "      <td>181</td>\n",
       "      <td>5</td>\n",
       "      <td>0</td>\n",
       "      <td>66</td>\n",
       "    </tr>\n",
       "    <tr>\n",
       "      <th>1</th>\n",
       "      <td>2017-10-07</td>\n",
       "      <td>6041</td>\n",
       "      <td>100</td>\n",
       "      <td>197</td>\n",
       "      <td>8</td>\n",
       "      <td>0</td>\n",
       "      <td>66</td>\n",
       "    </tr>\n",
       "    <tr>\n",
       "      <th>2</th>\n",
       "      <td>2017-10-08</td>\n",
       "      <td>25</td>\n",
       "      <td>100</td>\n",
       "      <td>0</td>\n",
       "      <td>5</td>\n",
       "      <td>0</td>\n",
       "      <td>66</td>\n",
       "    </tr>\n",
       "    <tr>\n",
       "      <th>3</th>\n",
       "      <td>2017-10-09</td>\n",
       "      <td>5461</td>\n",
       "      <td>100</td>\n",
       "      <td>174</td>\n",
       "      <td>4</td>\n",
       "      <td>0</td>\n",
       "      <td>66</td>\n",
       "    </tr>\n",
       "    <tr>\n",
       "      <th>4</th>\n",
       "      <td>2017-10-10</td>\n",
       "      <td>6915</td>\n",
       "      <td>200</td>\n",
       "      <td>223</td>\n",
       "      <td>5</td>\n",
       "      <td>500</td>\n",
       "      <td>66</td>\n",
       "    </tr>\n",
       "  </tbody>\n",
       "</table>\n",
       "</div>"
      ],
      "text/plain": [
       "           id  stepcount  mood  calories  hours_of_sleep  active  weight_kg\n",
       "0  2017-10-06       5464   200       181               5       0         66\n",
       "1  2017-10-07       6041   100       197               8       0         66\n",
       "2  2017-10-08         25   100         0               5       0         66\n",
       "3  2017-10-09       5461   100       174               4       0         66\n",
       "4  2017-10-10       6915   200       223               5     500         66"
      ]
     },
     "execution_count": 23,
     "metadata": {},
     "output_type": "execute_result"
    }
   ],
   "source": [
    "# Rename columns to match table column names for eventual load\n",
    "\n",
    "fitness_data_df.rename(columns= {\"date\": \"id\", \"step_count\": \"stepcount\", \"calories_burned\": \"calories\",\n",
    "                                 \"bool_of_active\": \"active\",},inplace = True)\n",
    "\n",
    "fitness_data_df.head()"
   ]
  },
  {
   "cell_type": "code",
   "execution_count": 24,
   "id": "fc9d5bfc",
   "metadata": {},
   "outputs": [
    {
     "data": {
      "text/html": [
       "<div>\n",
       "<style scoped>\n",
       "    .dataframe tbody tr th:only-of-type {\n",
       "        vertical-align: middle;\n",
       "    }\n",
       "\n",
       "    .dataframe tbody tr th {\n",
       "        vertical-align: top;\n",
       "    }\n",
       "\n",
       "    .dataframe thead th {\n",
       "        text-align: right;\n",
       "    }\n",
       "</style>\n",
       "<table border=\"1\" class=\"dataframe\">\n",
       "  <thead>\n",
       "    <tr style=\"text-align: right;\">\n",
       "      <th></th>\n",
       "      <th>id</th>\n",
       "      <th>stepcount</th>\n",
       "      <th>mood</th>\n",
       "      <th>calories</th>\n",
       "      <th>active</th>\n",
       "      <th>weight_kg</th>\n",
       "    </tr>\n",
       "  </thead>\n",
       "  <tbody>\n",
       "    <tr>\n",
       "      <th>0</th>\n",
       "      <td>2017-10-06</td>\n",
       "      <td>5464</td>\n",
       "      <td>200</td>\n",
       "      <td>181</td>\n",
       "      <td>0</td>\n",
       "      <td>66</td>\n",
       "    </tr>\n",
       "    <tr>\n",
       "      <th>1</th>\n",
       "      <td>2017-10-07</td>\n",
       "      <td>6041</td>\n",
       "      <td>100</td>\n",
       "      <td>197</td>\n",
       "      <td>0</td>\n",
       "      <td>66</td>\n",
       "    </tr>\n",
       "    <tr>\n",
       "      <th>2</th>\n",
       "      <td>2017-10-08</td>\n",
       "      <td>25</td>\n",
       "      <td>100</td>\n",
       "      <td>0</td>\n",
       "      <td>0</td>\n",
       "      <td>66</td>\n",
       "    </tr>\n",
       "    <tr>\n",
       "      <th>3</th>\n",
       "      <td>2017-10-09</td>\n",
       "      <td>5461</td>\n",
       "      <td>100</td>\n",
       "      <td>174</td>\n",
       "      <td>0</td>\n",
       "      <td>66</td>\n",
       "    </tr>\n",
       "    <tr>\n",
       "      <th>4</th>\n",
       "      <td>2017-10-10</td>\n",
       "      <td>6915</td>\n",
       "      <td>200</td>\n",
       "      <td>223</td>\n",
       "      <td>500</td>\n",
       "      <td>66</td>\n",
       "    </tr>\n",
       "  </tbody>\n",
       "</table>\n",
       "</div>"
      ],
      "text/plain": [
       "           id  stepcount  mood  calories  active  weight_kg\n",
       "0  2017-10-06       5464   200       181       0         66\n",
       "1  2017-10-07       6041   100       197       0         66\n",
       "2  2017-10-08         25   100         0       0         66\n",
       "3  2017-10-09       5461   100       174       0         66\n",
       "4  2017-10-10       6915   200       223     500         66"
      ]
     },
     "execution_count": 24,
     "metadata": {},
     "output_type": "execute_result"
    }
   ],
   "source": [
    "#  Keep columns needed to load the table\n",
    "\n",
    "new_fitness_data_df = fitness_data_df[[\"id\",\"stepcount\", \"mood\", \"calories\", \"active\", \"weight_kg\"]].copy()\n",
    "new_fitness_data_df.head()"
   ]
  },
  {
   "cell_type": "code",
   "execution_count": 25,
   "id": "fde97aa1",
   "metadata": {},
   "outputs": [
    {
     "data": {
      "text/plain": [
       "id           object\n",
       "stepcount     int64\n",
       "mood          int64\n",
       "calories      int64\n",
       "active        int64\n",
       "weight_kg     int64\n",
       "dtype: object"
      ]
     },
     "metadata": {},
     "output_type": "display_data"
    }
   ],
   "source": [
    "display(new_fitness_data_df.dtypes)"
   ]
  },
  {
   "cell_type": "code",
   "execution_count": 26,
   "id": "f5df827b",
   "metadata": {},
   "outputs": [],
   "source": [
    "# Connect to the database\n",
    "protocol = 'postgresql'\n",
    "username = 'postgres'\n",
    "password = 'learnPS01now'\n",
    "host = 'localhost'\n",
    "port = 5432\n",
    "database_name = 'Project2_Fitness'\n",
    "rds_connection_string = f'{protocol}://{username}:{password}@{host}:{port}/{database_name}'\n",
    "engine = create_engine(rds_connection_string)"
   ]
  },
  {
   "cell_type": "code",
   "execution_count": 27,
   "id": "558dff91",
   "metadata": {},
   "outputs": [
    {
     "name": "stderr",
     "output_type": "stream",
     "text": [
      "C:\\Users\\Owner\\anaconda\\Anaconda3\\envs\\PythonData\\lib\\site-packages\\ipykernel_launcher.py:2: SADeprecationWarning: The Engine.table_names() method is deprecated and will be removed in a future release.  Please refer to Inspector.get_table_names(). (deprecated since: 1.4)\n",
      "  \n"
     ]
    },
    {
     "data": {
      "text/plain": [
       "['fittrends']"
      ]
     },
     "execution_count": 27,
     "metadata": {},
     "output_type": "execute_result"
    }
   ],
   "source": [
    "# Get table names\n",
    "engine.table_names()"
   ]
  },
  {
   "cell_type": "code",
   "execution_count": 28,
   "id": "47f7a0b9",
   "metadata": {},
   "outputs": [],
   "source": [
    "#  Load csv file with selected columns in the database table called fittrends\n",
    "\n",
    "new_fitness_data_df.to_sql(name='fittrends', con=engine, if_exists='append', index=False)"
   ]
  },
  {
   "cell_type": "code",
   "execution_count": 29,
   "id": "de65c1d7",
   "metadata": {},
   "outputs": [
    {
     "data": {
      "text/html": [
       "<div>\n",
       "<style scoped>\n",
       "    .dataframe tbody tr th:only-of-type {\n",
       "        vertical-align: middle;\n",
       "    }\n",
       "\n",
       "    .dataframe tbody tr th {\n",
       "        vertical-align: top;\n",
       "    }\n",
       "\n",
       "    .dataframe thead th {\n",
       "        text-align: right;\n",
       "    }\n",
       "</style>\n",
       "<table border=\"1\" class=\"dataframe\">\n",
       "  <thead>\n",
       "    <tr style=\"text-align: right;\">\n",
       "      <th></th>\n",
       "      <th>id</th>\n",
       "      <th>stepcount</th>\n",
       "      <th>mood</th>\n",
       "      <th>calories</th>\n",
       "      <th>active</th>\n",
       "      <th>weight_kg</th>\n",
       "    </tr>\n",
       "  </thead>\n",
       "  <tbody>\n",
       "    <tr>\n",
       "      <th>0</th>\n",
       "      <td>2017-10-06</td>\n",
       "      <td>5464</td>\n",
       "      <td>200</td>\n",
       "      <td>181</td>\n",
       "      <td>0</td>\n",
       "      <td>66</td>\n",
       "    </tr>\n",
       "    <tr>\n",
       "      <th>1</th>\n",
       "      <td>2017-10-07</td>\n",
       "      <td>6041</td>\n",
       "      <td>100</td>\n",
       "      <td>197</td>\n",
       "      <td>0</td>\n",
       "      <td>66</td>\n",
       "    </tr>\n",
       "    <tr>\n",
       "      <th>2</th>\n",
       "      <td>2017-10-08</td>\n",
       "      <td>25</td>\n",
       "      <td>100</td>\n",
       "      <td>0</td>\n",
       "      <td>0</td>\n",
       "      <td>66</td>\n",
       "    </tr>\n",
       "    <tr>\n",
       "      <th>3</th>\n",
       "      <td>2017-10-09</td>\n",
       "      <td>5461</td>\n",
       "      <td>100</td>\n",
       "      <td>174</td>\n",
       "      <td>0</td>\n",
       "      <td>66</td>\n",
       "    </tr>\n",
       "    <tr>\n",
       "      <th>4</th>\n",
       "      <td>2017-10-10</td>\n",
       "      <td>6915</td>\n",
       "      <td>200</td>\n",
       "      <td>223</td>\n",
       "      <td>500</td>\n",
       "      <td>66</td>\n",
       "    </tr>\n",
       "  </tbody>\n",
       "</table>\n",
       "</div>"
      ],
      "text/plain": [
       "           id stepcount  mood  calories  active  weight_kg\n",
       "0  2017-10-06      5464   200       181       0         66\n",
       "1  2017-10-07      6041   100       197       0         66\n",
       "2  2017-10-08      25     100         0       0         66\n",
       "3  2017-10-09      5461   100       174       0         66\n",
       "4  2017-10-10      6915   200       223     500         66"
      ]
     },
     "execution_count": 29,
     "metadata": {},
     "output_type": "execute_result"
    }
   ],
   "source": [
    "#  This table has a primary key as no duplicates are needed\n",
    "\n",
    "pd.read_sql_query('select * from fittrends', con=engine).head()"
   ]
  },
  {
   "cell_type": "code",
   "execution_count": null,
   "id": "f1a68c6e",
   "metadata": {},
   "outputs": [],
   "source": []
  }
 ],
 "metadata": {
  "kernelspec": {
   "display_name": "PythonData",
   "language": "python",
   "name": "pythondata"
  },
  "language_info": {
   "codemirror_mode": {
    "name": "ipython",
    "version": 3
   },
   "file_extension": ".py",
   "mimetype": "text/x-python",
   "name": "python",
   "nbconvert_exporter": "python",
   "pygments_lexer": "ipython3",
   "version": "3.7.7"
  }
 },
 "nbformat": 4,
 "nbformat_minor": 5
}
